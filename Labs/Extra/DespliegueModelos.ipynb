{
  "nbformat": 4,
  "nbformat_minor": 0,
  "metadata": {
    "colab": {
      "name": "Basic_Preprocessing_FeatureEngineering.ipynb",
      "provenance": [],
      "collapsed_sections": [],
      "authorship_tag": "ABX9TyNZGdjEbCfP+245qloso/b/",
      "include_colab_link": true
    },
    "kernelspec": {
      "name": "python3",
      "display_name": "Python 3",
      "language": "python"
    }
  },
  "cells": [
    {
      "cell_type": "markdown",
      "metadata": {
        "id": "view-in-github",
        "colab_type": "text"
      },
      "source": [
        "<a href=\"https://colab.research.google.com/github/jdariasl/ML_2020/blob/master/Labs/Extra/DespligueModelos.ipynb\" target=\"_parent\"><img src=\"https://colab.research.google.com/assets/colab-badge.svg\" alt=\"Open In Colab\"/></a>"
      ]
    },
    {
      "cell_type": "markdown",
      "metadata": {
        "id": "D6HVQPMx_6Hc"
      },
      "source": [
        "# Despliegue de modelos\n",
        "\n",
        "## Introducción\n",
        "\n",
        "Recordar los pasos que habíamos visto en los estándares introducidos en [nuestra sesión](Basic_Preprocessing_FeatureEngineering.ipynb):\n",
        "\n",
        "1. Entender problema y el objetivo\n",
        "2. Obtener y Entender los datos (análisis exploratorio-- en algunas prácticas hemos iniciado con estas técnicas)\n",
        "3. Modelar: incluyendo las transformaciones/ limpieza/ ingeniería de características de los datos y el modelo de ML (entrenamiento, validación, experimentos -- lo que hemos estado haciendo en las practicas)\n",
        "4. ** Despliegue del Modelo**\n",
        "\n",
        "\n",
        "\n",
        "\n",
        "\n",
        "\n",
        "\n"
      ]
    },
    {
      "source": [
        "### La Practica de la Ciencia de Datos\n",
        "\n",
        "A la hora de hablar de despliegue de modelos, nos encontramos con una discusión de roles que muchas veces se superponen. Esta superposición Se ve influenciada por diversos factores externos, como el tamaño de la compañía, el equipo y contexto particular.\n",
        "\n",
        "<img src=\"https://raw.githubusercontent.com/jdariasl/ML_2020/master/Labs/Extra/UDEA_DS_ML.jpg\" alt=\"drawing\" width=\"800\"/>\n"
      ],
      "cell_type": "markdown",
      "metadata": {}
    },
    {
      "source": [
        "## Formas de Despliegue\n",
        "\n",
        "En la practica hay varios escenarios para realizar la puesta en marcha de los modelos. Como es usual depende del contexto y necesidades particulares."
      ],
      "cell_type": "markdown",
      "metadata": {}
    },
    {
      "source": [
        "### Batch o por lotes\n",
        "\n",
        "\n",
        "<img src=\"https://raw.githubusercontent.com/jdariasl/ML_2020/master/Labs/Extra/batch.jpg\" alt=\"drawing\" width=\"800\"/>\n",
        "\n",
        "\n",
        "**Ejemplo**\n",
        "\n",
        "Cada Trimestre una compañía de crédito, actualiza la información de sus usuarios, con esa información en la compañía predice la capacidad de pago de sus clientes. Esa predicción es almacenada y es consumida por diferentes aplicaciones y sistemas de la compañía.\n",
        "\n",
        "\n",
        "\n",
        "\n",
        "\n"
      ],
      "cell_type": "markdown",
      "metadata": {}
    },
    {
      "source": [
        "### Tiempo real usando Feature Lookup\n",
        "\n",
        "<img src=\"https://raw.githubusercontent.com/jdariasl/ML_2020/master/Labs/Extra/feature_lookup.jpg\" alt=\"drawing\" width=\"800\"/>\n",
        "\n",
        "\n",
        "\n",
        "**Ejemplo**\n",
        "\n",
        "Una compañía de pagos creo un modelo de predicción de fraude. \n",
        "El modelo necesita 100 Variables. \n",
        "Las 100 Variables requieren de agregaciones a nivel de usuario y otros factores. \n",
        "\n",
        "En este caso el servicio que consume el modelo de predicción de fraude solo envía unos identificadores clave como el usuario y la tarjeta. \n",
        "\n",
        "El modelo recibe esa información y realizar la consulta a una base de datos de cache para derivar las características. Luego de obtener las características, aplica el modelo y responde con la probabilidad de fraude.\n"
      ],
      "cell_type": "markdown",
      "metadata": {}
    },
    {
      "source": [
        "### Tiempo real\n",
        "\n",
        "<img src=\"https://raw.githubusercontent.com/jdariasl/ML_2020/master/Labs/Extra/realtime.jpg\" alt=\"drawing\" width=\"800\"/>\n",
        "\n",
        "\n",
        "\n",
        "**Ejemplo**\n",
        "\n",
        "[Azure Vision](https://azure.microsoft.com/es-es/services/cognitive-services/computer-vision/#features)\n",
        "\n",
        "\n",
        "\n"
      ],
      "cell_type": "markdown",
      "metadata": {}
    },
    {
      "source": [
        "## Entrenamiento del modelo"
      ],
      "cell_type": "markdown",
      "metadata": {}
    },
    {
      "cell_type": "code",
      "execution_count": 5,
      "metadata": {},
      "outputs": [],
      "source": [
        "import numpy as np\n",
        "import pandas as pd\n",
        "from sklearn.datasets import load_iris\n",
        "\n",
        "\n",
        "\n",
        "X,y = load_iris(return_X_y = True)"
      ]
    },
    {
      "source": [
        "Sklearn maneja un concepto par apoder agrupar todos los pasos de procesamiento.\n",
        "\n",
        "Los Pipelines.\n"
      ],
      "cell_type": "markdown",
      "metadata": {}
    },
    {
      "cell_type": "code",
      "execution_count": null,
      "metadata": {},
      "outputs": [],
      "source": [
        "from sklearn.preprocessing import StandardScaler\n",
        "\n",
        "\n",
        "scaler = MinMaxScaler()\n",
        "scaled_X = scaler.fit_transform(X)"
      ]
    },
    {
      "source": [
        "## Re-factorización"
      ],
      "cell_type": "markdown",
      "metadata": {}
    },
    {
      "cell_type": "code",
      "execution_count": null,
      "metadata": {},
      "outputs": [],
      "source": []
    },
    {
      "cell_type": "code",
      "execution_count": null,
      "metadata": {},
      "outputs": [],
      "source": []
    },
    {
      "source": [
        "## Despliegue a servicio web"
      ],
      "cell_type": "markdown",
      "metadata": {}
    },
    {
      "cell_type": "markdown",
      "metadata": {
        "id": "nbCmyFBwDE_J"
      },
      "source": [
        "## Rerencias y enlaces de interes\n",
        "\n",
        "https://jakevdp.github.io/PythonDataScienceHandbook/05.04-feature-engineering.html\n",
        "\n",
        "https://pandas.pydata.org/pandas-docs/stable/user_guide/missing_data.html\n",
        "\n",
        "https://scikit-learn.org/stable/modules/classes.html#module-sklearn.preprocessing\n",
        "\n",
        "https://scikit-learn.org/stable/modules/impute.html"
      ]
    }
  ]
}