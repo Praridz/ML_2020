{
  "nbformat": 4,
  "nbformat_minor": 0,
  "metadata": {
    "colab": {
      "name": "Basic_Preprocessing_FeatureEngineering.ipynb",
      "provenance": [],
      "collapsed_sections": []
    },
    "kernelspec": {
      "name": "python3",
      "display_name": "Python 3",
      "language": "python"
    }
  },
  "cells": [
    {
      "cell_type": "markdown",
      "metadata": {
        "id": "D6HVQPMx_6Hc"
      },
      "source": [
        "# Despliegue de modelos\n",
        "\n",
        "## Introducción\n",
        "\n",
        "Recordar los pasos que habíamos visto en los estándares introducidos en [nuestra sesión](Basic_Preprocessing_FeatureEngineering.ipynb):\n",
        "\n",
        "1. Entender problema y el objetivo\n",
        "2. Obtener y Entender los datos (análisis exploratorio-- en algunas prácticas hemos iniciado con estas técnicas)\n",
        "3. Modelar: incluyendo las transformaciones/ limpieza/ ingeniería de características de los datos y el modelo de ML (entrenamiento, validación, experimentos -- lo que hemos estado haciendo en las practicas)\n",
        "4. **Despliegue del Modelo**\n",
        "\n",
        "\n",
        "\n",
        "\n",
        "\n",
        "\n",
        "\n"
      ]
    },
    {
      "cell_type": "markdown",
      "metadata": {
        "id": "9xJOLJ1mjTct"
      },
      "source": [
        "### La Practica de la Ciencia de Datos\n",
        "\n",
        "A la hora de hablar de despliegue de modelos, nos encontramos con una discusión de roles que muchas veces se superponen. Esta superposición Se ve influenciada por diversos factores externos, como el tamaño de la compañía, el equipo y contexto particular.\n",
        "\n",
        "<img src=\"https://raw.githubusercontent.com/jdariasl/ML_2020/master/Labs/Extra/UDEA_DS_ML.jpg\" alt=\"drawing\" width=\"800\"/>\n"
      ]
    },
    {
      "cell_type": "markdown",
      "metadata": {
        "id": "o2Kg0mWxjTct"
      },
      "source": [
        "## Formas de Despliegue\n",
        "\n",
        "En la practica hay varios escenarios para realizar la puesta en marcha de los modelos. Como es usual depende del contexto y necesidades particulares."
      ]
    },
    {
      "cell_type": "markdown",
      "metadata": {
        "id": "tI4H8BFpjTcu"
      },
      "source": [
        "### Batch o por lotes\n",
        "\n",
        "\n",
        "<img src=\"https://raw.githubusercontent.com/jdariasl/ML_2020/master/Labs/Extra/batch.jpg\" alt=\"drawing\" width=\"800\"/>\n",
        "\n",
        "\n",
        "**Ejemplo**\n",
        "\n",
        "Cada Trimestre una compañía de crédito, actualiza la información de sus usuarios, con esa información en la compañía predice la capacidad de pago de sus clientes. Esa predicción es almacenada y es consumida por diferentes aplicaciones y sistemas de la compañía.\n",
        "\n",
        "\n",
        "\n",
        "\n",
        "\n"
      ]
    },
    {
      "cell_type": "markdown",
      "metadata": {
        "id": "pthvtkmajTcu"
      },
      "source": [
        "### Tiempo real usando Feature Lookup\n",
        "\n",
        "<img src=\"https://raw.githubusercontent.com/jdariasl/ML_2020/master/Labs/Extra/feature_lookup.jpg\" alt=\"drawing\" width=\"800\"/>\n",
        "\n",
        "\n",
        "\n",
        "**Ejemplo**\n",
        "\n",
        "Una compañía de pagos creo un modelo de predicción de fraude. \n",
        "El modelo necesita 100 Variables. \n",
        "Las 100 Variables requieren de agregaciones a nivel de usuario y otros factores. \n",
        "\n",
        "En este caso el servicio que consume el modelo de predicción de fraude solo envía unos identificadores clave como el usuario y la tarjeta. \n",
        "\n",
        "El modelo recibe esa información y realizar la consulta a una base de datos de cache para derivar las características. Luego de obtener las características, aplica el modelo y responde con la probabilidad de fraude.\n"
      ]
    },
    {
      "cell_type": "markdown",
      "metadata": {
        "id": "LP_N54eKjTcu"
      },
      "source": [
        "### Tiempo real\n",
        "\n",
        "<img src=\"https://raw.githubusercontent.com/jdariasl/ML_2020/master/Labs/Extra/realtime.jpg\" alt=\"drawing\" width=\"800\"/>\n",
        "\n",
        "\n",
        "\n",
        "**Ejemplo**\n",
        "\n",
        "[Azure Vision](https://azure.microsoft.com/es-es/services/cognitive-services/computer-vision/#features)\n",
        "\n",
        "\n",
        "\n"
      ]
    },
    {
      "cell_type": "markdown",
      "metadata": {
        "id": "-f_AjkLyjTcu"
      },
      "source": [
        "## Entrenamiento del modelo"
      ]
    },
    {
      "cell_type": "code",
      "metadata": {
        "id": "HhKuhH_gjTcu"
      },
      "source": [
        "import numpy as np\n",
        "import pandas as pd\n",
        "from sklearn.datasets import load_iris\n",
        "X,y = load_iris(return_X_y = True)"
      ],
      "execution_count": 1,
      "outputs": []
    },
    {
      "cell_type": "markdown",
      "metadata": {
        "id": "1RUVouodjTcv"
      },
      "source": [
        "\n",
        "Sklearn maneja un concepto par apoder agrupar todos los pasos de procesamiento y entrenamiento del modelo. \n",
        "\n",
        "<img src=\"https://iaml.it/blog/optimizing-sklearn-pipelines/images/pipeline-diagram.png\" alt=\"drawing\" width=\"800\"/>\n",
        "\n",
        "\n",
        "\n",
        "\n",
        "\n",
        "\n"
      ]
    },
    {
      "cell_type": "code",
      "metadata": {
        "id": "ITzfGPVFjTcv"
      },
      "source": [
        "from sklearn.preprocessing import StandardScaler\n"
      ],
      "execution_count": null,
      "outputs": []
    },
    {
      "cell_type": "markdown",
      "metadata": {
        "id": "DPlU48BOjTcv"
      },
      "source": [
        "## Re-factorización"
      ]
    },
    {
      "cell_type": "code",
      "metadata": {
        "id": "7OKuJ2VLjTcv"
      },
      "source": [
        ""
      ],
      "execution_count": null,
      "outputs": []
    },
    {
      "cell_type": "code",
      "metadata": {
        "id": "K3cfEIVCjTcv"
      },
      "source": [
        ""
      ],
      "execution_count": null,
      "outputs": []
    },
    {
      "cell_type": "markdown",
      "metadata": {
        "id": "JbkBgv2ojTcw"
      },
      "source": [
        "## Despliegue a servicio web"
      ]
    },
    {
      "cell_type": "markdown",
      "metadata": {
        "id": "nbCmyFBwDE_J"
      },
      "source": [
        "## Rerencias y enlaces de interes\n",
        "\n",
        "https://jakevdp.github.io/PythonDataScienceHandbook/05.04-feature-engineering.html\n",
        "\n",
        "https://pandas.pydata.org/pandas-docs/stable/user_guide/missing_data.html\n",
        "\n",
        "https://scikit-learn.org/stable/modules/classes.html#module-sklearn.preprocessing\n",
        "\n",
        "https://scikit-learn.org/stable/modules/impute.html"
      ]
    }
  ]
}